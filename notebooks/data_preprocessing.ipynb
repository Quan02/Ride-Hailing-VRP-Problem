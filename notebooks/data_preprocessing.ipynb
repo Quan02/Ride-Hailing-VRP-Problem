{
 "cells": [
  {
   "cell_type": "markdown",
   "id": "9f0c1bfb",
   "metadata": {},
   "source": [
    "# Title: Data Preprocessing for Road Network Graph\n",
    "# Author: Loh Fu Quan\n",
    "# Date: 14 April 2025"
   ]
  },
  {
   "cell_type": "markdown",
   "id": "130afaab",
   "metadata": {},
   "source": [
    "# Import Necessary libraries"
   ]
  },
  {
   "cell_type": "code",
   "execution_count": null,
   "id": "480a299d",
   "metadata": {
    "vscode": {
     "languageId": "plaintext"
    }
   },
   "outputs": [],
   "source": [
    "import osmnx as ox"
   ]
  }
 ],
 "metadata": {
  "language_info": {
   "name": "python"
  }
 },
 "nbformat": 4,
 "nbformat_minor": 5
}
