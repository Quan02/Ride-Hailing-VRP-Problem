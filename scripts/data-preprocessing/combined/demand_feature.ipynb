{
 "cells": [
  {
   "cell_type": "markdown",
   "id": "01b783aa",
   "metadata": {},
   "source": [
    "### This notebooks focus on adding features on data for demand prediction analysis."
   ]
  },
  {
   "cell_type": "code",
   "execution_count": 14,
   "id": "0046ca11",
   "metadata": {},
   "outputs": [],
   "source": [
    "# Import needed libraries\n",
    "import os\n",
    "import duckdb\n",
    "import pandas as pd\n",
    "import networkx as nx\n",
    "import numpy as np\n",
    "from sklearn.preprocessing import MinMaxScaler"
   ]
  },
  {
   "cell_type": "code",
   "execution_count": 3,
   "id": "1565590a",
   "metadata": {},
   "outputs": [],
   "source": [
    "os.chdir(r\"C:/Users/FuQuan/Desktop/Ride-Hailing/Ride-Hailing-VRP-Problem/\")"
   ]
  },
  {
   "cell_type": "code",
   "execution_count": 4,
   "id": "cc5e64d2",
   "metadata": {},
   "outputs": [
    {
     "name": "stdout",
     "output_type": "stream",
     "text": [
      "     request_datetime     pickup_datetime    dropoff_datetime  PULocationID  \\\n",
      "0 2024-01-01 04:26:07 2024-01-01 04:30:21 2024-01-01 04:43:53           242   \n",
      "1 2024-01-01 03:23:13 2024-01-01 04:27:50 2024-01-01 04:55:58            37   \n",
      "2 2024-01-01 04:04:46 2024-01-01 04:08:30 2024-01-01 04:33:39           208   \n",
      "3 2024-01-01 04:41:16 2024-01-01 04:44:51 2024-01-01 04:54:18           216   \n",
      "4 2024-01-01 04:45:53 2024-01-01 04:50:15 2024-01-01 05:13:42            39   \n",
      "\n",
      "   DOLocationID  trip_miles  trip_time  base_passenger_fare  \\\n",
      "0            20       3.400        812                13.37   \n",
      "1            26       9.570       1688                34.66   \n",
      "2           180      15.519       1509                39.23   \n",
      "3           134       2.271        567                11.44   \n",
      "4           225       5.153       1407                29.98   \n",
      "\n",
      "   congestion_surcharge  driver_pay  pickup_lat  pickup_lon  dropoff_lat  \\\n",
      "0                   0.0       12.28   40.846783  -73.850671    40.857780   \n",
      "1                   0.0       32.66   40.694994  -73.922240    40.630950   \n",
      "2                   0.0       34.81   40.823319  -73.823540    40.675595   \n",
      "3                   0.0       12.88   40.676154  -73.819460    40.708051   \n",
      "4                   0.0       22.67   40.638037  -73.899735    40.688168   \n",
      "\n",
      "   dropoff_lon pickup_nearest_node dropoff_nearest_node  trip_duration  \\\n",
      "0   -73.885867            42742139             42748295          812.0   \n",
      "1   -73.988661            42486754             42473049         1688.0   \n",
      "2   -73.847043            42754073             42882900         1509.0   \n",
      "3   -73.828712            42837698             42806047          567.0   \n",
      "4   -73.931888            42500118             42473259         1407.0   \n",
      "\n",
      "   wait_time  avg_speed  \n",
      "0      254.0  15.073892  \n",
      "1     3877.0  20.409953  \n",
      "2      224.0  37.023459  \n",
      "3      215.0  14.419048  \n",
      "4      262.0  13.184648  \n"
     ]
    }
   ],
   "source": [
    "# Step 1: Load and preprocess RIDE DATA\n",
    "\n",
    "ride_data = duckdb.query(\"SELECT * FROM 'data/processed/ride_data/enriched_ride_data.parquet'\").df()\n",
    "print(ride_data.head())"
   ]
  },
  {
   "cell_type": "code",
   "execution_count": 5,
   "id": "96ee0969",
   "metadata": {},
   "outputs": [],
   "source": [
    "# Convert datetime columns to proper datetime objects\n",
    "ride_data['pickup_datetime'] = pd.to_datetime(ride_data['pickup_datetime'])\n",
    "ride_data['request_datetime'] = pd.to_datetime(ride_data['request_datetime'])\n",
    "ride_data['dropoff_datetime'] = pd.to_datetime(ride_data['dropoff_datetime'])"
   ]
  },
  {
   "cell_type": "code",
   "execution_count": 10,
   "id": "ff528b94",
   "metadata": {},
   "outputs": [
    {
     "name": "stdout",
     "output_type": "stream",
     "text": [
      "\n",
      "Ride Data with Time Features:\n",
      "      pickup_datetime  hour_of_day  day_of_week\n",
      "0 2024-01-01 04:30:21            4            0\n",
      "1 2024-01-01 04:27:50            4            0\n",
      "2 2024-01-01 04:08:30            4            0\n",
      "3 2024-01-01 04:44:51            4            0\n",
      "4 2024-01-01 04:50:15            4            0\n"
     ]
    }
   ],
   "source": [
    "ride_data['hour_of_day'] = ride_data['pickup_datetime'].dt.hour\n",
    "ride_data['day_of_week'] = ride_data['pickup_datetime'].dt.weekday\n",
    "# 0 = Monday, 1 = Tuesday,..\n",
    "\n",
    "print(\"\\nRide Data with Time Features:\")\n",
    "print(ride_data[['pickup_datetime', 'hour_of_day', 'day_of_week']].head())"
   ]
  },
  {
   "cell_type": "code",
   "execution_count": 25,
   "id": "690f4acd",
   "metadata": {},
   "outputs": [
    {
     "name": "stdout",
     "output_type": "stream",
     "text": [
      "     request_datetime     pickup_datetime    dropoff_datetime  PULocationID  \\\n",
      "0 2024-01-01 04:26:07 2024-01-01 04:30:21 2024-01-01 04:43:53           242   \n",
      "1 2024-01-01 03:23:13 2024-01-01 04:27:50 2024-01-01 04:55:58            37   \n",
      "2 2024-01-01 04:04:46 2024-01-01 04:08:30 2024-01-01 04:33:39           208   \n",
      "3 2024-01-01 04:41:16 2024-01-01 04:44:51 2024-01-01 04:54:18           216   \n",
      "4 2024-01-01 04:45:53 2024-01-01 04:50:15 2024-01-01 05:13:42            39   \n",
      "\n",
      "   DOLocationID  trip_miles  trip_time  base_passenger_fare  \\\n",
      "0            20       3.400        812                13.37   \n",
      "1            26       9.570       1688                34.66   \n",
      "2           180      15.519       1509                39.23   \n",
      "3           134       2.271        567                11.44   \n",
      "4           225       5.153       1407                29.98   \n",
      "\n",
      "   congestion_surcharge  driver_pay  ...  pickup_lon  dropoff_lat  \\\n",
      "0                   0.0       12.28  ...  -73.850671    40.857780   \n",
      "1                   0.0       32.66  ...  -73.922240    40.630950   \n",
      "2                   0.0       34.81  ...  -73.823540    40.675595   \n",
      "3                   0.0       12.88  ...  -73.819460    40.708051   \n",
      "4                   0.0       22.67  ...  -73.899735    40.688168   \n",
      "\n",
      "   dropoff_lon  pickup_nearest_node dropoff_nearest_node trip_duration  \\\n",
      "0   -73.885867             42742139             42748295         812.0   \n",
      "1   -73.988661             42486754             42473049        1688.0   \n",
      "2   -73.847043             42754073             42882900        1509.0   \n",
      "3   -73.828712             42837698             42806047         567.0   \n",
      "4   -73.931888             42500118             42473259        1407.0   \n",
      "\n",
      "   wait_time  avg_speed  hour_of_day  day_of_week  \n",
      "0      254.0  15.073892            4            0  \n",
      "1     3877.0  20.409953            4            0  \n",
      "2      224.0  37.023459            4            0  \n",
      "3      215.0  14.419048            4            0  \n",
      "4      262.0  13.184648            4            0  \n",
      "\n",
      "[5 rows x 21 columns]\n"
     ]
    }
   ],
   "source": [
    "print(ride_data.head())"
   ]
  },
  {
   "cell_type": "code",
   "execution_count": 11,
   "id": "1f79aef0",
   "metadata": {},
   "outputs": [
    {
     "name": "stdout",
     "output_type": "stream",
     "text": [
      "   PULocationID  ride_count\n",
      "0             1           1\n",
      "1             2          17\n",
      "2             3       39987\n",
      "3             4       62558\n",
      "4             5        5512\n"
     ]
    }
   ],
   "source": [
    "#  Aggregate ride demand by pickup location\n",
    "ride_demand = ride_data.groupby('PULocationID').size().reset_index(name='ride_count')\n",
    "print(ride_demand.head())"
   ]
  },
  {
   "cell_type": "code",
   "execution_count": 13,
   "id": "a4df9fdf",
   "metadata": {},
   "outputs": [
    {
     "name": "stdout",
     "output_type": "stream",
     "text": [
      "Ride Demand Attributes by Location ID\n",
      "   PULocationID  ride_count  norm_ride_count\n",
      "0             1           1         0.000000\n",
      "1             2          17         0.000052\n",
      "2             3       39987         0.130390\n",
      "3             4       62558         0.203992\n",
      "4             5        5512         0.017971\n"
     ]
    }
   ],
   "source": [
    "# Normalize ride counts\n",
    "scaler = MinMaxScaler()\n",
    "ride_demand[\"norm_ride_count\"] = scaler.fit_transform(ride_demand[['ride_count']])\n",
    "\n",
    "print(\"Ride Demand Attributes by Location ID\")\n",
    "print(ride_demand.head())"
   ]
  },
  {
   "cell_type": "code",
   "execution_count": 29,
   "id": "efa64152",
   "metadata": {},
   "outputs": [],
   "source": [
    "ride_data['is_weekend'] = ride_data['day_of_week'].apply(lambda x: 1 if x >= 5 else 0)\n",
    "aggregated_df = ride_data.groupby(\n",
    "    ['pickup_nearest_node', 'hour_of_day', 'day_of_week', 'is_weekend']\n",
    ").agg(\n",
    "    ride_count=('pickup_datetime', 'count'),\n",
    "    avg_trip_duration=('trip_time', 'mean'),\n",
    "    avg_wait_time=('wait_time', 'mean'),\n",
    "    avg_trip_miles=('trip_miles', 'mean'),\n",
    "    avg_fare=('base_passenger_fare', 'mean'),\n",
    "    avg_driver_pay=('driver_pay', 'mean')\n",
    ").reset_index()\n",
    "\n",
    "aggregated_df['avg_speed'] = aggregated_df['avg_trip_miles'] / (aggregated_df['avg_trip_duration'] / 3600)\n",
    "aggregated_df.to_parquet(\"data/processed/ride_data/aggregated_ride_data.parquet\")"
   ]
  },
  {
   "cell_type": "code",
   "execution_count": 30,
   "id": "24de2ee6",
   "metadata": {},
   "outputs": [
    {
     "name": "stdout",
     "output_type": "stream",
     "text": [
      "      pickup_nearest_node  hour_of_day  day_of_week  is_weekend  ride_count  \\\n",
      "0               100662028            0            0           0          20   \n",
      "1               100662028            0            1           0          14   \n",
      "2               100662028            0            2           0          10   \n",
      "3               100662028            0            3           0           8   \n",
      "4               100662028            0            4           0           1   \n",
      "...                   ...          ...          ...         ...         ...   \n",
      "42833          9995746880           23            2           0          12   \n",
      "42834          9995746880           23            3           0           7   \n",
      "42835          9995746880           23            4           0          19   \n",
      "42836          9995746880           23            5           1          30   \n",
      "42837          9995746880           23            6           1          14   \n",
      "\n",
      "       avg_trip_duration  avg_wait_time  avg_trip_miles   avg_fare  \\\n",
      "0            1065.050000     569.950000        6.835900  24.304500   \n",
      "1            1337.214286     447.071429        9.284429  30.151429   \n",
      "2            1371.700000     567.500000        9.122700  30.662000   \n",
      "3            1135.625000     445.500000        7.069875  23.867500   \n",
      "4            1056.000000     185.000000        4.430000  18.650000   \n",
      "...                  ...            ...             ...        ...   \n",
      "42833        1025.750000     434.500000        6.922000  21.850833   \n",
      "42834         738.857143     478.285714        4.539857  16.544286   \n",
      "42835        1021.789474     530.210526        7.264316  25.047895   \n",
      "42836        1154.300000     608.300000        9.005000  26.278333   \n",
      "42837        1071.214286     641.142857        7.692500  24.587143   \n",
      "\n",
      "       avg_driver_pay  avg_speed  \n",
      "0           19.322000  23.106183  \n",
      "1           35.697857  24.995203  \n",
      "2           37.720000  23.942349  \n",
      "3           30.052500  22.411932  \n",
      "4           35.750000  15.102273  \n",
      "...               ...        ...  \n",
      "42833       18.905000  24.293639  \n",
      "42834       13.801429  22.119954  \n",
      "42835       19.624737  25.593860  \n",
      "42836       26.250667  28.084553  \n",
      "42837       21.605000  25.851970  \n",
      "\n",
      "[42838 rows x 11 columns]\n"
     ]
    }
   ],
   "source": [
    "print(aggregated_df)"
   ]
  },
  {
   "cell_type": "code",
   "execution_count": 15,
   "id": "ec7c8954",
   "metadata": {},
   "outputs": [
    {
     "name": "stdout",
     "output_type": "stream",
     "text": [
      "GraphML Loaded. Number of nodes:  55242\n"
     ]
    }
   ],
   "source": [
    "# Step 2: Load Road Data\n",
    "G = nx.read_graphml(\"data/processed/road_graph/new_york_processed_network.graphml\")\n",
    "print(\"GraphML Loaded. Number of nodes: \", G.number_of_nodes())"
   ]
  },
  {
   "cell_type": "code",
   "execution_count": 37,
   "id": "c03334ec",
   "metadata": {},
   "outputs": [
    {
     "name": "stdout",
     "output_type": "stream",
     "text": [
      "\n",
      "Edges DataFrame:\n",
      "          u          v                            osmid        highway lanes  \\\n",
      "0  39076461  274283981                         25161349       motorway     2   \n",
      "1  39076461   42854803                         25161578  motorway_link   NaN   \n",
      "2  39076490  277672046                          5699971  motorway_link   NaN   \n",
      "3  39076490  277672005                       1014007069       motorway     3   \n",
      "4  39076504  462124701  [618709517, 618709515, 5700693]  motorway_link     1   \n",
      "\n",
      "  maxspeed                  name oneway  ref reversed              length  \\\n",
      "0   50 mph  Cross Island Parkway   True   CI    False   819.5016661477803   \n",
      "1      NaN                   NaN   True  NaN    False   268.1440952459794   \n",
      "2      NaN                   NaN   True  NaN    False   259.9234870362934   \n",
      "3   50 mph  Cross Island Parkway   True   CI    False  291.83869462800163   \n",
      "4      NaN                   NaN   True  NaN    False  433.14985047751736   \n",
      "\n",
      "                                            geometry bridge access tunnel  \\\n",
      "0  LINESTRING (-73.7947484 40.7863451, -73.794615...    NaN    NaN    NaN   \n",
      "1  LINESTRING (-73.7947484 40.7863451, -73.793315...    NaN    NaN    NaN   \n",
      "2  LINESTRING (-73.7570906 40.7624294, -73.757209...    NaN    NaN    NaN   \n",
      "3  LINESTRING (-73.7570906 40.7624294, -73.757408...    NaN    NaN    NaN   \n",
      "4  LINESTRING (-73.7441643 40.7534671, -73.744533...    yes    NaN    NaN   \n",
      "\n",
      "  width junction est_width  \n",
      "0   NaN      NaN       NaN  \n",
      "1   NaN      NaN       NaN  \n",
      "2   NaN      NaN       NaN  \n",
      "3   NaN      NaN       NaN  \n",
      "4   NaN      NaN       NaN  \n"
     ]
    }
   ],
   "source": [
    "edge_list = []\n",
    "\n",
    "for u, v, data in G.edges(data=True):\n",
    "    edge_info = {'u': u, 'v': v}\n",
    "    edge_info.update(data)  # Merge the edge attributes into the dictionary\n",
    "    edge_list.append(edge_info)\n",
    "\n",
    "# Create the DataFrame\n",
    "edges_df = pd.DataFrame(edge_list)\n",
    "\n",
    "# Show it\n",
    "print(\"\\nEdges DataFrame:\")\n",
    "print(edges_df.head())"
   ]
  },
  {
   "cell_type": "code",
   "execution_count": 38,
   "id": "6b3d5b40",
   "metadata": {},
   "outputs": [
    {
     "name": "stdout",
     "output_type": "stream",
     "text": [
      "                  u           v                            osmid  \\\n",
      "0          39076461   274283981                         25161349   \n",
      "1          39076461    42854803                         25161578   \n",
      "2          39076490   277672046                          5699971   \n",
      "3          39076490   277672005                       1014007069   \n",
      "4          39076504   462124701  [618709517, 618709515, 5700693]   \n",
      "...             ...         ...                              ...   \n",
      "139292  12748634203  5328181022                       1376850953   \n",
      "139293  12750132761    42848823                          5703658   \n",
      "139294  12750132761    42848835                          5703658   \n",
      "139295  12750132761    42866215                          5704783   \n",
      "139296  12750132761    42860387                          5709384   \n",
      "\n",
      "              highway lanes maxspeed                  name oneway  ref  \\\n",
      "0            motorway     2   50 mph  Cross Island Parkway   True   CI   \n",
      "1       motorway_link   NaN   25 mph                   NaN   True  NaN   \n",
      "2       motorway_link   NaN   25 mph                   NaN   True  NaN   \n",
      "3            motorway     3   50 mph  Cross Island Parkway   True   CI   \n",
      "4       motorway_link     1   25 mph                   NaN   True  NaN   \n",
      "...               ...   ...      ...                   ...    ...  ...   \n",
      "139292        primary   NaN   25 mph    Northern Boulevard  False  NaN   \n",
      "139293       tertiary   NaN   25 mph        Central Avenue  False  NaN   \n",
      "139294       tertiary   NaN   25 mph        Central Avenue  False  NaN   \n",
      "139295    residential   NaN   25 mph         Minton Street   True  NaN   \n",
      "139296    residential   NaN   25 mph     Beach 12th Street   True  NaN   \n",
      "\n",
      "       reversed              length  \\\n",
      "0         False   819.5016661477803   \n",
      "1         False   268.1440952459794   \n",
      "2         False   259.9234870362934   \n",
      "3         False  291.83869462800163   \n",
      "4         False  433.14985047751736   \n",
      "...         ...                 ...   \n",
      "139292    False  31.554706583879707   \n",
      "139293     True   9.151325648902713   \n",
      "139294    False  124.97122808260477   \n",
      "139295    False   62.39368156128248   \n",
      "139296    False   199.3100948906606   \n",
      "\n",
      "                                                 geometry bridge access  \\\n",
      "0       LINESTRING (-73.7947484 40.7863451, -73.794615...    NaN    NaN   \n",
      "1       LINESTRING (-73.7947484 40.7863451, -73.793315...    NaN    NaN   \n",
      "2       LINESTRING (-73.7570906 40.7624294, -73.757209...    NaN    NaN   \n",
      "3       LINESTRING (-73.7570906 40.7624294, -73.757408...    NaN    NaN   \n",
      "4       LINESTRING (-73.7441643 40.7534671, -73.744533...    yes    NaN   \n",
      "...                                                   ...    ...    ...   \n",
      "139292  LINESTRING (-73.7398378 40.7664761, -73.739697...    NaN    NaN   \n",
      "139293  LINESTRING (-73.7476871 40.6087, -73.7476084 4...    NaN    NaN   \n",
      "139294  LINESTRING (-73.7476871 40.6087, -73.7478039 4...    NaN    NaN   \n",
      "139295  LINESTRING (-73.7476871 40.6087, -73.7477459 4...    NaN    NaN   \n",
      "139296  LINESTRING (-73.7476871 40.6087, -73.7476285 4...    NaN    NaN   \n",
      "\n",
      "       tunnel width junction est_width  \n",
      "0         NaN   NaN      NaN       NaN  \n",
      "1         NaN   NaN      NaN       NaN  \n",
      "2         NaN   NaN      NaN       NaN  \n",
      "3         NaN   NaN      NaN       NaN  \n",
      "4         NaN   NaN      NaN       NaN  \n",
      "...       ...   ...      ...       ...  \n",
      "139292    NaN   NaN      NaN       NaN  \n",
      "139293    NaN   NaN      NaN       NaN  \n",
      "139294    NaN   NaN      NaN       NaN  \n",
      "139295    NaN   NaN      NaN       NaN  \n",
      "139296    NaN   NaN      NaN       NaN  \n",
      "\n",
      "[139297 rows x 18 columns]\n"
     ]
    }
   ],
   "source": [
    "edges_df['maxspeed'] = edges_df['maxspeed'].fillna('25 mph')\n",
    "\n",
    "print(edges_df)\n",
    "edges_df.to_parquet(\"data/processed/road_graph/enriched_edge_data.parquet\")\n"
   ]
  },
  {
   "cell_type": "code",
   "execution_count": null,
   "id": "5253876a",
   "metadata": {},
   "outputs": [
    {
     "name": "stdout",
     "output_type": "stream",
     "text": [
      "\n",
      "Road Nodes Sample:\n",
      "    node_id          y          x            highway  street_count\n",
      "0  39076461  40.786345 -73.794748  motorway_junction             3\n",
      "1  39076490  40.762429 -73.757091  motorway_junction             3\n",
      "2  39076504  40.753467 -73.744164  motorway_junction             3\n",
      "3  42421728  40.798048 -73.960044    traffic_signals             3\n",
      "4  42421731  40.798654 -73.961474    traffic_signals             4\n"
     ]
    }
   ],
   "source": [
    "nodes = []\n",
    "for node_id, data in G.nodes(data=True):\n",
    "    y = float(data.get('y', 0))  # Latitude\n",
    "    x = float(data.get('x', 0))  # Longitude\n",
    "    highway = data.get('highway', None)\n",
    "    street_count = int(data.get('street_count', 0))\n",
    "    nodes.append({\"node_id\": node_id, \"y\": y, \"x\": x, \"highway\": highway, \"street_count\": street_count})\n",
    "\n",
    "road_nodes_df = pd.DataFrame(nodes)\n",
    "print(\"\\nRoad Nodes Sample:\")\n",
    "print(road_nodes_df.head())"
   ]
  },
  {
   "cell_type": "code",
   "execution_count": 19,
   "id": "0f77aa09",
   "metadata": {},
   "outputs": [
    {
     "name": "stdout",
     "output_type": "stream",
     "text": [
      "\n",
      "Aggregated Ride Demand by Nearest Node:\n",
      "  pickup_nearest_node  ride_count  norm_ride_count\n",
      "0           100662028        2136         0.006962\n",
      "1           102994022        8321         0.027131\n",
      "2           103012237        5291         0.017250\n",
      "3         10571899595       18482         0.060265\n",
      "4         10593324590        1549         0.005048\n"
     ]
    }
   ],
   "source": [
    "# STEP 3: Aggreate ride_demand by node using nearest_node_id\n",
    "\n",
    "node_demand = ride_data.groupby('pickup_nearest_node').size().reset_index(name='ride_count')\n",
    "\n",
    "scaler = MinMaxScaler()\n",
    "node_demand['norm_ride_count'] = scaler.fit_transform(node_demand[['ride_count']])\n",
    "\n",
    "print(\"\\nAggregated Ride Demand by Nearest Node:\")\n",
    "print(node_demand.head())"
   ]
  },
  {
   "cell_type": "code",
   "execution_count": 21,
   "id": "2a52c067",
   "metadata": {},
   "outputs": [
    {
     "name": "stdout",
     "output_type": "stream",
     "text": [
      "\n",
      "Road Nodes Enhanced with Ride Demand:\n",
      "    node_id          y          x  street_count            highway  \\\n",
      "0  39076461  40.786345 -73.794748             3  motorway_junction   \n",
      "1  39076490  40.762429 -73.757091             3  motorway_junction   \n",
      "2  39076504  40.753467 -73.744164             3  motorway_junction   \n",
      "3  42421728  40.798048 -73.960044             3    traffic_signals   \n",
      "4  42421731  40.798654 -73.961474             4    traffic_signals   \n",
      "\n",
      "   ride_count  norm_ride_count  \n",
      "0         0.0              0.0  \n",
      "1         0.0              0.0  \n",
      "2         0.0              0.0  \n",
      "3         0.0              0.0  \n",
      "4         0.0              0.0  \n"
     ]
    }
   ],
   "source": [
    "road_nodes_df = road_nodes_df.merge(node_demand, left_on='node_id', right_on='pickup_nearest_node', how='left')\n",
    "road_nodes_df['ride_count'] = road_nodes_df['ride_count'].fillna(0)\n",
    "road_nodes_df['norm_ride_count'] = road_nodes_df['norm_ride_count'].fillna(0)\n",
    "\n",
    "print(\"\\nRoad Nodes Enhanced with Ride Demand:\")\n",
    "print(road_nodes_df[['node_id', 'y', 'x', 'street_count', 'highway', 'ride_count', 'norm_ride_count']].head())"
   ]
  },
  {
   "cell_type": "code",
   "execution_count": 23,
   "id": "b6d54b5a",
   "metadata": {},
   "outputs": [
    {
     "name": "stdout",
     "output_type": "stream",
     "text": [
      "\n",
      "Road Nodes with Ride Count > 1:\n",
      "      node_id          y          x  street_count          highway  \\\n",
      "11   42421772  40.783828 -73.977825             4  traffic_signals   \n",
      "166  42427136  40.842154 -73.942285             3  traffic_signals   \n",
      "207  42427374  40.742234 -73.997002             4  traffic_signals   \n",
      "254  42427870  40.865797 -73.919996             4  traffic_signals   \n",
      "277  42428003  40.765545 -73.954711             4  traffic_signals   \n",
      "\n",
      "     ride_count  norm_ride_count  \n",
      "11     131226.0         0.427911  \n",
      "166    143548.0         0.468092  \n",
      "207    134127.0         0.437371  \n",
      "254     64072.0         0.208929  \n",
      "277    124415.0         0.405701  \n"
     ]
    }
   ],
   "source": [
    "# Print out node with more ride_count\n",
    "high_demand_nodes = road_nodes_df[road_nodes_df['ride_count'] > 1]\n",
    "print(\"\\nRoad Nodes with Ride Count > 1:\")\n",
    "print(high_demand_nodes[['node_id', 'y', 'x', 'street_count', 'highway', 'ride_count', 'norm_ride_count']].head())"
   ]
  },
  {
   "cell_type": "code",
   "execution_count": 24,
   "id": "3a40aaee",
   "metadata": {},
   "outputs": [],
   "source": [
    "road_nodes_df.to_parquet(\"data/processed/road_graph/enriched_road_data.parquet\")\n"
   ]
  },
  {
   "cell_type": "code",
   "execution_count": null,
   "id": "a688d6e1",
   "metadata": {},
   "outputs": [],
   "source": []
  }
 ],
 "metadata": {
  "kernelspec": {
   "display_name": ".venv",
   "language": "python",
   "name": "python3"
  },
  "language_info": {
   "codemirror_mode": {
    "name": "ipython",
    "version": 3
   },
   "file_extension": ".py",
   "mimetype": "text/x-python",
   "name": "python",
   "nbconvert_exporter": "python",
   "pygments_lexer": "ipython3",
   "version": "3.11.9"
  }
 },
 "nbformat": 4,
 "nbformat_minor": 5
}
