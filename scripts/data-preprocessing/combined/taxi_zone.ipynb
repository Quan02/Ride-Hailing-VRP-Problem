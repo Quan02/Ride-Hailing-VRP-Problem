{
 "cells": [
  {
   "cell_type": "markdown",
   "id": "f00ee2c5",
   "metadata": {},
   "source": [
    "#### This notebooks map taxi zone location to its nearest node in graphml.\n",
    "\n",
    "#### It process following tasks\n",
    "- Add latitude and longitude to taxi zone data\n",
    "- Map each location to the nearest node in road_data\n",
    "- Save it as parquet file for future analysis."
   ]
  },
  {
   "cell_type": "code",
   "execution_count": 1,
   "id": "e9d9546b",
   "metadata": {},
   "outputs": [],
   "source": [
    "# Import needed libraries.\n",
    "import networkx as nx\n",
    "import geopandas as gpd\n",
    "import pandas as pd\n",
    "from scipy.spatial import KDTree"
   ]
  },
  {
   "cell_type": "code",
   "execution_count": 21,
   "id": "54d7e2fa",
   "metadata": {},
   "outputs": [],
   "source": [
    "# Load taxi_zones data\n",
    "taxi_zones = gpd.read_file(r\"C:\\Users\\FuQuan\\Desktop\\Ride-Hailing\\Ride-Hailing-VRP-Problem\\data\\raw\\taxi_zones\\taxi_zones.shp\")"
   ]
  },
  {
   "cell_type": "code",
   "execution_count": 22,
   "id": "251bb840",
   "metadata": {},
   "outputs": [
    {
     "name": "stdout",
     "output_type": "stream",
     "text": [
      "EPSG:2263\n",
      "New EPSG == 4326\n"
     ]
    }
   ],
   "source": [
    "print(taxi_zones.crs)\n",
    "\n",
    "# If the CRS is not WGS84, reproject it\n",
    "# Example: if CRS is EPSG:2263 (New York State Plane)\n",
    "if taxi_zones.crs != \"EPSG:4326\":\n",
    "    taxi_zones = taxi_zones.to_crs(\"EPSG:4326\")\n",
    "    print(\"New EPSG == 4326\")"
   ]
  },
  {
   "cell_type": "code",
   "execution_count": 23,
   "id": "64ae5e38",
   "metadata": {},
   "outputs": [
    {
     "name": "stdout",
     "output_type": "stream",
     "text": [
      "   OBJECTID  Shape_Leng  Shape_Area                     zone  LocationID  \\\n",
      "0         1    0.116357    0.000782           Newark Airport           1   \n",
      "1         2    0.433470    0.004866              Jamaica Bay           2   \n",
      "2         3    0.084341    0.000314  Allerton/Pelham Gardens           3   \n",
      "3         4    0.043567    0.000112            Alphabet City           4   \n",
      "4         5    0.092146    0.000498            Arden Heights           5   \n",
      "\n",
      "         borough                                           geometry  \\\n",
      "0            EWR  POLYGON ((-74.18445 40.695, -74.18449 40.6951,...   \n",
      "1         Queens  MULTIPOLYGON (((-73.82338 40.63899, -73.82277 ...   \n",
      "2          Bronx  POLYGON ((-73.84793 40.87134, -73.84725 40.870...   \n",
      "3      Manhattan  POLYGON ((-73.97177 40.72582, -73.97179 40.725...   \n",
      "4  Staten Island  POLYGON ((-74.17422 40.56257, -74.17349 40.562...   \n",
      "\n",
      "   centroid_lat  centroid_lon  \n",
      "0     40.691831    -74.174000  \n",
      "1     40.616745    -73.831299  \n",
      "2     40.864474    -73.847422  \n",
      "3     40.723752    -73.976968  \n",
      "4     40.552659    -74.188484  \n"
     ]
    },
    {
     "name": "stderr",
     "output_type": "stream",
     "text": [
      "C:\\Users\\FuQuan\\AppData\\Local\\Temp\\ipykernel_5320\\745579718.py:2: UserWarning: Geometry is in a geographic CRS. Results from 'centroid' are likely incorrect. Use 'GeoSeries.to_crs()' to re-project geometries to a projected CRS before this operation.\n",
      "\n",
      "  taxi_zones['centroid_lat'] = taxi_zones.geometry.centroid.y\n",
      "C:\\Users\\FuQuan\\AppData\\Local\\Temp\\ipykernel_5320\\745579718.py:3: UserWarning: Geometry is in a geographic CRS. Results from 'centroid' are likely incorrect. Use 'GeoSeries.to_crs()' to re-project geometries to a projected CRS before this operation.\n",
      "\n",
      "  taxi_zones['centroid_lon'] = taxi_zones.centroid.x\n"
     ]
    }
   ],
   "source": [
    "# Add latitude and longitude data.\n",
    "taxi_zones['centroid_lat'] = taxi_zones.geometry.centroid.y\n",
    "taxi_zones['centroid_lon'] = taxi_zones.centroid.x\n",
    "\n",
    "print(taxi_zones.head())"
   ]
  },
  {
   "cell_type": "code",
   "execution_count": 24,
   "id": "43e4de5e",
   "metadata": {},
   "outputs": [],
   "source": [
    "# Load road data.\n",
    "G = nx.read_graphml(r\"C:\\Users\\FuQuan\\Desktop\\Ride-Hailing\\Ride-Hailing-VRP-Problem\\data\\processed\\road_graph\\new_york_processed_network.graphml\")"
   ]
  },
  {
   "cell_type": "code",
   "execution_count": 25,
   "id": "64be48cc",
   "metadata": {},
   "outputs": [
    {
     "name": "stdout",
     "output_type": "stream",
     "text": [
      "\n",
      "Road Nodes Sample:\n",
      "    node_id          y          x            highway  street_count\n",
      "0  39076461  40.786345 -73.794748  motorway_junction             3\n",
      "1  39076490  40.762429 -73.757091  motorway_junction             3\n",
      "2  39076504  40.753467 -73.744164  motorway_junction             3\n",
      "3  42421728  40.798048 -73.960044    traffic_signals             3\n",
      "4  42421731  40.798654 -73.961474    traffic_signals             4\n"
     ]
    }
   ],
   "source": [
    "nodes = []\n",
    "for node, data in G.nodes(data=True):\n",
    "    # Directly convert values since they’re guaranteed to be present\n",
    "    y = float(data.get('y'))\n",
    "    x = float(data.get('x'))\n",
    "    highway = data.get('highway', None)\n",
    "    street_count = int(data.get('street_count'))\n",
    "    \n",
    "    nodes.append({\n",
    "         \"node_id\": node,\n",
    "         \"y\": y,\n",
    "         \"x\": x,\n",
    "         \"highway\": highway,\n",
    "         \"street_count\": street_count\n",
    "    })\n",
    "    \n",
    "road_nodes_df = pd.DataFrame(nodes)\n",
    "print(\"\\nRoad Nodes Sample:\")\n",
    "print(road_nodes_df.head())\n"
   ]
  },
  {
   "cell_type": "code",
   "execution_count": 26,
   "id": "d44dae6c",
   "metadata": {},
   "outputs": [],
   "source": [
    "road_coords = road_nodes_df[['y', 'x']].values\n",
    "# Create KDTree for efficient searching nearest node.\n",
    "kd_tree = KDTree(road_coords)"
   ]
  },
  {
   "cell_type": "code",
   "execution_count": 27,
   "id": "4c062323",
   "metadata": {},
   "outputs": [],
   "source": [
    "# Find nearest road node for each taxi zone centroid\n",
    "def find_nearest_node(row):\n",
    "    query_point = [row['centroid_lat'], row['centroid_lon']]\n",
    "    _, idx = kd_tree.query(query_point)  # Find nearest road node\n",
    "    return road_nodes_df.iloc[idx]['node_id']"
   ]
  },
  {
   "cell_type": "code",
   "execution_count": 28,
   "id": "97b37aab",
   "metadata": {},
   "outputs": [
    {
     "name": "stdout",
     "output_type": "stream",
     "text": [
      "\n",
      "Updated taxi zone data saved as 'taxizone_with_node_ids.parquet'\n"
     ]
    }
   ],
   "source": [
    "taxi_zones['nearest_node_id'] = taxi_zones.apply(find_nearest_node, axis=1)\n",
    "\n",
    "# Save updated taxi zone data to Parquet\n",
    "taxi_zones.to_parquet(r\"C:\\Users\\FuQuan\\Desktop\\Ride-Hailing\\Ride-Hailing-VRP-Problem\\data\\processed\\taxi_zones.parquet\", index=False)\n",
    "print(\"\\nUpdated taxi zone data saved as 'taxizone_with_node_ids.parquet'\")"
   ]
  },
  {
   "cell_type": "code",
   "execution_count": 30,
   "id": "63c12f45",
   "metadata": {},
   "outputs": [
    {
     "name": "stdout",
     "output_type": "stream",
     "text": [
      "    OBJECTID  Shape_Leng  Shape_Area                       zone  LocationID  \\\n",
      "0          1    0.116357    0.000782             Newark Airport           1   \n",
      "1          2    0.433470    0.004866                Jamaica Bay           2   \n",
      "2          3    0.084341    0.000314    Allerton/Pelham Gardens           3   \n",
      "3          4    0.043567    0.000112              Alphabet City           4   \n",
      "4          5    0.092146    0.000498              Arden Heights           5   \n",
      "..       ...         ...         ...                        ...         ...   \n",
      "95        96    0.185180    0.000548  Forest Park/Highland Park          96   \n",
      "96        97    0.062476    0.000163                Fort Greene          97   \n",
      "97        98    0.121661    0.000486              Fresh Meadows          98   \n",
      "98        99    0.183371    0.001210            Freshkills Park          99   \n",
      "99       100    0.024813    0.000037           Garment District         100   \n",
      "\n",
      "          borough                                           geometry  \\\n",
      "0             EWR  POLYGON ((-74.18445 40.695, -74.18449 40.6951,...   \n",
      "1          Queens  MULTIPOLYGON (((-73.82338 40.63899, -73.82277 ...   \n",
      "2           Bronx  POLYGON ((-73.84793 40.87134, -73.84725 40.870...   \n",
      "3       Manhattan  POLYGON ((-73.97177 40.72582, -73.97179 40.725...   \n",
      "4   Staten Island  POLYGON ((-74.17422 40.56257, -74.17349 40.562...   \n",
      "..            ...                                                ...   \n",
      "95         Queens  POLYGON ((-73.83804 40.70832, -73.83773 40.708...   \n",
      "96       Brooklyn  POLYGON ((-73.96934 40.69577, -73.96881 40.693...   \n",
      "97         Queens  POLYGON ((-73.76361 40.73917, -73.76268 40.737...   \n",
      "98  Staten Island  POLYGON ((-74.16843 40.5865, -74.16895 40.5831...   \n",
      "99      Manhattan  POLYGON ((-73.98729 40.75045, -73.98777 40.749...   \n",
      "\n",
      "    centroid_lat  centroid_lon nearest_node_id  \n",
      "0      40.691831    -74.174000        42998199  \n",
      "1      40.616745    -73.831299      2757350501  \n",
      "2      40.864474    -73.847422        42744594  \n",
      "3      40.723752    -73.976968        42434237  \n",
      "4      40.552659    -74.188484        42952997  \n",
      "..           ...           ...             ...  \n",
      "95     40.697001    -73.871558       277617103  \n",
      "96     40.690787    -73.974882        42521410  \n",
      "97     40.734463    -73.777253        42929117  \n",
      "98     40.576774    -74.186419       446727480  \n",
      "99     40.753513    -73.988787        42433611  \n",
      "\n",
      "[100 rows x 10 columns]\n"
     ]
    }
   ],
   "source": [
    "print(taxi_zones.head(100))"
   ]
  },
  {
   "cell_type": "code",
   "execution_count": null,
   "id": "54a7259a",
   "metadata": {},
   "outputs": [],
   "source": []
  }
 ],
 "metadata": {
  "kernelspec": {
   "display_name": ".venv",
   "language": "python",
   "name": "python3"
  },
  "language_info": {
   "codemirror_mode": {
    "name": "ipython",
    "version": 3
   },
   "file_extension": ".py",
   "mimetype": "text/x-python",
   "name": "python",
   "nbconvert_exporter": "python",
   "pygments_lexer": "ipython3",
   "version": "3.11.9"
  }
 },
 "nbformat": 4,
 "nbformat_minor": 5
}
