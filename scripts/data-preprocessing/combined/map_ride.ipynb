{
 "cells": [
  {
   "cell_type": "markdown",
   "id": "ea631754",
   "metadata": {},
   "source": [
    "#### This notebooks add additional feature to ride_data."
   ]
  },
  {
   "cell_type": "code",
   "execution_count": 1,
   "id": "1156bcb5",
   "metadata": {},
   "outputs": [],
   "source": [
    "import duckdb\n",
    "\n",
    "jan_parquet = r\"C:\\Users\\FuQuan\\Desktop\\Ride-Hailing\\Ride-Hailing-VRP-Problem\\data\\raw\\ride_data_parquet\\fhvhv_tripdata_2024-01.parquet\"\n",
    "taxi_zone = r\"C:\\Users\\FuQuan\\Desktop\\Ride-Hailing\\Ride-Hailing-VRP-Problem\\data\\processed\\taxi_zones.parquet\""
   ]
  },
  {
   "cell_type": "code",
   "execution_count": 4,
   "id": "3005dc60",
   "metadata": {},
   "outputs": [
    {
     "name": "stdout",
     "output_type": "stream",
     "text": [
      "   OBJECTID  Shape_Leng  Shape_Area                     zone  LocationID  \\\n",
      "0         1    0.116357    0.000782           Newark Airport           1   \n",
      "1         2    0.433470    0.004866              Jamaica Bay           2   \n",
      "2         3    0.084341    0.000314  Allerton/Pelham Gardens           3   \n",
      "3         4    0.043567    0.000112            Alphabet City           4   \n",
      "4         5    0.092146    0.000498            Arden Heights           5   \n",
      "5         6    0.150491    0.000606  Arrochar/Fort Wadsworth           6   \n",
      "6         7    0.107417    0.000390                  Astoria           7   \n",
      "7         8    0.027591    0.000027             Astoria Park           8   \n",
      "8         9    0.099784    0.000338               Auburndale           9   \n",
      "9        10    0.099839    0.000436             Baisley Park          10   \n",
      "\n",
      "         borough                                           geometry  \\\n",
      "0            EWR  [1, 3, 0, 0, 0, 1, 0, 0, 0, 232, 0, 0, 0, 136,...   \n",
      "1         Queens  [1, 6, 0, 0, 0, 33, 0, 0, 0, 1, 3, 0, 0, 0, 1,...   \n",
      "2          Bronx  [1, 3, 0, 0, 0, 1, 0, 0, 0, 121, 0, 0, 0, 36, ...   \n",
      "3      Manhattan  [1, 3, 0, 0, 0, 1, 0, 0, 0, 88, 0, 0, 0, 214, ...   \n",
      "4  Staten Island  [1, 3, 0, 0, 0, 1, 0, 0, 0, 170, 0, 0, 0, 132,...   \n",
      "5  Staten Island  [1, 3, 0, 0, 0, 1, 0, 0, 0, 21, 1, 0, 0, 196, ...   \n",
      "6         Queens  [1, 3, 0, 0, 0, 1, 0, 0, 0, 182, 0, 0, 0, 143,...   \n",
      "7         Queens  [1, 3, 0, 0, 0, 1, 0, 0, 0, 40, 0, 0, 0, 2, 96...   \n",
      "8         Queens  [1, 3, 0, 0, 0, 1, 0, 0, 0, 189, 0, 0, 0, 110,...   \n",
      "9         Queens  [1, 3, 0, 0, 0, 1, 0, 0, 0, 157, 0, 0, 0, 216,...   \n",
      "\n",
      "   centroid_lat  centroid_lon nearest_node_id  \n",
      "0     40.691831    -74.174000        42998199  \n",
      "1     40.616745    -73.831299      2757350501  \n",
      "2     40.864474    -73.847422        42744594  \n",
      "3     40.723752    -73.976968        42434237  \n",
      "4     40.552659    -74.188484        42952997  \n",
      "5     40.600324    -74.071771        42988288  \n",
      "6     40.761493    -73.919694        42856546  \n",
      "7     40.778559    -73.923086        42812053  \n",
      "8     40.751035    -73.787949      2882156220  \n",
      "9     40.678953    -73.790986        42864253  \n"
     ]
    }
   ],
   "source": [
    "# Print taxi_Zone data\n",
    "query = f\"SELECT * FROM '{taxi_zone}'\"\n",
    "df = duckdb.query(query).to_df()\n",
    "print(df.head(10))"
   ]
  },
  {
   "cell_type": "code",
   "execution_count": 5,
   "id": "dd52151a",
   "metadata": {},
   "outputs": [
    {
     "name": "stdout",
     "output_type": "stream",
     "text": [
      "   hvfhs_license_num dispatching_base_num originating_base_num  \\\n",
      "0             HV0003               B03404               B03404   \n",
      "1             HV0003               B03404               B03404   \n",
      "2             HV0003               B03404               B03404   \n",
      "3             HV0003               B03404               B03404   \n",
      "4             HV0003               B03404               B03404   \n",
      "..               ...                  ...                  ...   \n",
      "95            HV0005               B03406                 None   \n",
      "96            HV0003               B03404               B03404   \n",
      "97            HV0003               B03404               B03404   \n",
      "98            HV0003               B03404               B03404   \n",
      "99            HV0003               B03404               B03404   \n",
      "\n",
      "      request_datetime   on_scene_datetime     pickup_datetime  \\\n",
      "0  2024-01-01 00:21:47 2024-01-01 00:25:06 2024-01-01 00:28:08   \n",
      "1  2024-01-01 00:10:56 2024-01-01 00:11:08 2024-01-01 00:12:53   \n",
      "2  2024-01-01 00:20:04 2024-01-01 00:21:51 2024-01-01 00:23:05   \n",
      "3  2024-01-01 00:35:46 2024-01-01 00:39:59 2024-01-01 00:41:04   \n",
      "4  2024-01-01 00:48:19 2024-01-01 00:56:23 2024-01-01 00:57:21   \n",
      "..                 ...                 ...                 ...   \n",
      "95 2024-01-01 00:35:20                 NaT 2024-01-01 00:43:58   \n",
      "96 2024-01-01 00:26:13 2024-01-01 00:31:15 2024-01-01 00:31:31   \n",
      "97 2024-01-01 00:42:14 2024-01-01 00:50:57 2024-01-01 00:51:12   \n",
      "98 2024-01-01 00:42:30 2024-01-01 00:44:54 2024-01-01 00:46:46   \n",
      "99 2024-01-01 00:28:39 2024-01-01 00:33:39 2024-01-01 00:35:10   \n",
      "\n",
      "      dropoff_datetime  PULocationID  DOLocationID  trip_miles  ...  \\\n",
      "0  2024-01-01 01:05:39           161           158       2.830  ...   \n",
      "1  2024-01-01 00:20:05           137            79       1.570  ...   \n",
      "2  2024-01-01 00:35:16            79           186       1.980  ...   \n",
      "3  2024-01-01 00:56:34           234           148       1.990  ...   \n",
      "4  2024-01-01 01:10:02           148            97       2.650  ...   \n",
      "..                 ...           ...           ...         ...  ...   \n",
      "95 2024-01-01 00:57:20           189            49       1.971  ...   \n",
      "96 2024-01-01 00:46:40            65           181       2.910  ...   \n",
      "97 2024-01-01 01:17:56           181           107       8.690  ...   \n",
      "98 2024-01-01 01:34:02           234           119      11.700  ...   \n",
      "99 2024-01-01 00:48:55           243           166       4.570  ...   \n",
      "\n",
      "    sales_tax  congestion_surcharge  airport_fee  tips  driver_pay  \\\n",
      "0        4.05                  2.75          0.0   0.0       40.18   \n",
      "1        0.89                  2.75          0.0   0.0        6.12   \n",
      "2        1.60                  2.75          0.0   0.0        9.47   \n",
      "3        1.52                  2.75          0.0   0.0       11.35   \n",
      "4        3.43                  2.75          0.0   0.0       28.63   \n",
      "..        ...                   ...          ...   ...         ...   \n",
      "95       2.94                  0.00          0.0   0.0       15.72   \n",
      "96       2.45                  0.00          0.0   0.0       16.23   \n",
      "97       4.85                  2.75          0.0   0.0       35.65   \n",
      "98       4.71                  2.75          0.0   0.0       39.50   \n",
      "99       2.14                  0.00          0.0   0.0       23.49   \n",
      "\n",
      "    shared_request_flag  shared_match_flag  access_a_ride_flag  \\\n",
      "0                     N                  N                   N   \n",
      "1                     N                  N                   N   \n",
      "2                     N                  N                   N   \n",
      "3                     N                  N                   N   \n",
      "4                     N                  N                   N   \n",
      "..                  ...                ...                 ...   \n",
      "95                    N                  N                   N   \n",
      "96                    N                  N                   N   \n",
      "97                    N                  N                   N   \n",
      "98                    N                  N                   N   \n",
      "99                    N                  N                   N   \n",
      "\n",
      "    wav_request_flag wav_match_flag  \n",
      "0                  N              N  \n",
      "1                  N              N  \n",
      "2                  N              N  \n",
      "3                  N              N  \n",
      "4                  N              N  \n",
      "..               ...            ...  \n",
      "95                 N              N  \n",
      "96                 N              N  \n",
      "97                 N              N  \n",
      "98                 N              N  \n",
      "99                 N              Y  \n",
      "\n",
      "[100 rows x 24 columns]\n"
     ]
    }
   ],
   "source": [
    "# Print ride data\n",
    "query = f\"SELECT * FROM '{jan_parquet}'\"\n",
    "df = duckdb.query(query).to_df()\n",
    "print(df.head(10))"
   ]
  },
  {
   "cell_type": "code",
   "execution_count": 9,
   "id": "cce1551f",
   "metadata": {},
   "outputs": [
    {
     "name": "stdout",
     "output_type": "stream",
     "text": [
      "Successfully cleaned data and saved to 'C:/Users/FuQuan/Desktop/ride-hailing/data/processed/cleaned_ride_data.parquet'\n"
     ]
    }
   ],
   "source": [
    "# Drop the existing table before creating a new one\n",
    "duckdb.query(\"DROP TABLE IF EXISTS cleaned_ride_data\")\n",
    "\n",
    "# Create the cleaned table\n",
    "query = f\"\"\"\n",
    "CREATE TABLE cleaned_ride_data AS \n",
    "SELECT request_datetime, pickup_datetime, dropoff_datetime, PULocationID, \n",
    "DOLocationID, trip_miles, trip_time, base_passenger_fare, \n",
    "congestion_surcharge, driver_pay\n",
    "FROM '{jan_parquet}';\n",
    "\"\"\"\n",
    "duckdb.query(query)\n",
    "\n",
    "# Save cleaned data as a new Parquet file\n",
    "duckdb.query(\"COPY cleaned_ride_data TO 'C:/Users/FuQuan/Desktop/Ride-Hailing/Ride-Hailing-VRP-Problem/data/processed/ride_data/cleaned_ride_data.parquet' (FORMAT PARQUET)\")\n",
    "\n",
    "print(\"Successfully cleaned data and saved to 'C:/Users/FuQuan/Desktop/ride-hailing/data/processed/cleaned_ride_data.parquet'\")"
   ]
  },
  {
   "cell_type": "markdown",
   "id": "0f588199",
   "metadata": {},
   "source": []
  },
  {
   "cell_type": "code",
   "execution_count": 10,
   "id": "86819196",
   "metadata": {},
   "outputs": [
    {
     "name": "stdout",
     "output_type": "stream",
     "text": [
      "     request_datetime     pickup_datetime    dropoff_datetime  PULocationID  \\\n",
      "0 2024-01-01 00:03:47 2024-01-01 00:06:15 2024-01-01 00:27:53           255   \n",
      "1 2024-01-01 00:22:51 2024-01-01 00:29:47 2024-01-01 00:50:08            95   \n",
      "2 2024-01-01 00:29:43 2024-01-01 00:37:50 2024-01-01 00:58:44           195   \n",
      "3 2024-01-01 00:08:37 2024-01-01 00:11:17 2024-01-01 00:27:44           229   \n",
      "4 2024-01-01 00:42:04 2024-01-01 00:53:16 2024-01-01 01:41:05           249   \n",
      "\n",
      "   DOLocationID  trip_miles  trip_time  base_passenger_fare  \\\n",
      "0            95       7.020       1298                32.16   \n",
      "1           212      11.330       1221                45.83   \n",
      "2           112       7.370       1254                37.68   \n",
      "3            87       5.477        987                22.78   \n",
      "4           188       7.643       2869                35.10   \n",
      "\n",
      "   congestion_surcharge  driver_pay  \n",
      "0                  0.00       24.35  \n",
      "1                  0.00       30.98  \n",
      "2                  0.00       50.54  \n",
      "3                  2.75       19.10  \n",
      "4                  2.75       41.34  \n"
     ]
    }
   ],
   "source": [
    "test_parquet = r\"C:\\Users\\FuQuan\\Desktop\\Ride-Hailing\\Ride-Hailing-VRP-Problem\\data\\processed\\ride_data\\cleaned_ride_data.parquet\"\n",
    "query = f\"SELECT * FROM '{test_parquet}' WHERE trip_miles > 5\"\n",
    "df = duckdb.query(query).to_df()\n",
    "print(df.head())"
   ]
  },
  {
   "cell_type": "code",
   "execution_count": 12,
   "id": "549fb610",
   "metadata": {},
   "outputs": [
    {
     "name": "stdout",
     "output_type": "stream",
     "text": [
      "\n",
      "=== Step 1: Load Taxi Zones into DuckDB ===\n",
      "\n",
      "Taxi Zones successfully loaded.\n",
      "\n",
      "=== Step 2: Load Ride Data into DuckDB ===\n",
      "\n",
      "Ride Data successfully loaded.\n",
      "\n",
      "=== Step 3: Enrich Ride Data ===\n",
      "\n",
      "=== Step 4: Save Enriched Ride Data ===\n",
      "\n",
      "✅ Enriched ride data successfully saved to C:\\Users\\FuQuan\\Desktop\\Ride-Hailing\\Ride-Hailing-VRP-Problem\\data\\processed\\ride_data\\enriched_ride_data.parquet\n"
     ]
    }
   ],
   "source": [
    "import duckdb\n",
    "import pandas as pd\n",
    "\n",
    "# Define file paths\n",
    "ride_data_parquet = r\"C:\\Users\\FuQuan\\Desktop\\Ride-Hailing\\Ride-Hailing-VRP-Problem\\data\\processed\\ride_data\\cleaned_ride_data.parquet\"\n",
    "taxi_zone_parquet = r\"C:\\Users\\FuQuan\\Desktop\\Ride-Hailing\\Ride-Hailing-VRP-Problem\\data\\processed\\taxi_zones.parquet\"\n",
    "output_parquet = r\"C:\\Users\\FuQuan\\Desktop\\Ride-Hailing\\Ride-Hailing-VRP-Problem\\data\\processed\\ride_data\\enriched_ride_data.parquet\"\n",
    "\n",
    "# Step 1: Load Taxi Zones Data into DuckDB\n",
    "print(\"\\n=== Step 1: Load Taxi Zones into DuckDB ===\")\n",
    "conn = duckdb.connect(database=':memory:', read_only=False)\n",
    "conn.execute(f\"CREATE OR REPLACE TABLE taxi_zones AS SELECT * FROM '{taxi_zone_parquet}'\")\n",
    "print(\"\\nTaxi Zones successfully loaded.\")\n",
    "\n",
    "# Step 2: Load Ride Data into DuckDB\n",
    "print(\"\\n=== Step 2: Load Ride Data into DuckDB ===\")\n",
    "conn.execute(f\"CREATE OR REPLACE TABLE ride_data AS SELECT * FROM '{ride_data_parquet}'\")\n",
    "print(\"\\nRide Data successfully loaded.\")\n",
    "\n",
    "# Step 3: Enrich Ride Data by Joining with Taxi Zones\n",
    "print(\"\\n=== Step 3: Enrich Ride Data ===\")\n",
    "enrichment_query = \"\"\"\n",
    "SELECT ride.*,\n",
    "       tz_pickup.centroid_lat AS pickup_lat,\n",
    "       tz_pickup.centroid_lon AS pickup_lon,\n",
    "       tz_dropoff.centroid_lat AS dropoff_lat,\n",
    "       tz_dropoff.centroid_lon AS dropoff_lon,\n",
    "       tz_pickup.nearest_node_id AS pickup_nearest_node,\n",
    "       tz_dropoff.nearest_node_id AS dropoff_nearest_node,\n",
    "       date_part('epoch', ride.dropoff_datetime - ride.pickup_datetime) AS trip_duration,\n",
    "       date_part('epoch', ride.pickup_datetime - ride.request_datetime) AS wait_time,\n",
    "       CASE WHEN date_part('epoch', ride.dropoff_datetime - ride.pickup_datetime) > 0\n",
    "            THEN ride.trip_miles / (date_part('epoch', ride.dropoff_datetime - ride.pickup_datetime) / 3600)\n",
    "            ELSE NULL END AS avg_speed\n",
    "FROM ride_data AS ride\n",
    "LEFT JOIN taxi_zones AS tz_pickup\n",
    "    ON ride.PULocationID = tz_pickup.LocationID\n",
    "LEFT JOIN taxi_zones AS tz_dropoff\n",
    "    ON ride.DOLocationID = tz_dropoff.LocationID\n",
    "WHERE tz_pickup.nearest_node_id IS NOT NULL \n",
    "  AND tz_dropoff.nearest_node_id IS NOT NULL\n",
    "\"\"\"\n",
    "enriched_ride_data = conn.execute(enrichment_query).df()\n",
    "\n",
    "# Step 4: Save Enriched Ride Data to Parquet\n",
    "print(\"\\n=== Step 4: Save Enriched Ride Data ===\")\n",
    "enriched_ride_data.to_parquet(output_parquet, index=False)\n",
    "print(f\"\\n✅ Enriched ride data successfully saved to {output_parquet}\")\n"
   ]
  },
  {
   "cell_type": "code",
   "execution_count": 13,
   "id": "1e8268f5",
   "metadata": {},
   "outputs": [
    {
     "name": "stdout",
     "output_type": "stream",
     "text": [
      "     request_datetime     pickup_datetime    dropoff_datetime  PULocationID  \\\n",
      "0 2024-01-01 03:23:13 2024-01-01 04:27:50 2024-01-01 04:55:58            37   \n",
      "1 2024-01-01 04:04:46 2024-01-01 04:08:30 2024-01-01 04:33:39           208   \n",
      "2 2024-01-01 04:45:53 2024-01-01 04:50:15 2024-01-01 05:13:42            39   \n",
      "3 2024-01-01 04:11:36 2024-01-01 04:22:18 2024-01-01 04:43:35           186   \n",
      "4 2024-01-01 04:00:45 2024-01-01 04:02:23 2024-01-01 04:20:00           163   \n",
      "\n",
      "   DOLocationID  trip_miles  trip_time  base_passenger_fare  \\\n",
      "0            26       9.570       1688                34.66   \n",
      "1           180      15.519       1509                39.23   \n",
      "2           225       5.153       1407                29.98   \n",
      "3           243       9.730       1277                49.50   \n",
      "4           217       8.090       1057                33.57   \n",
      "\n",
      "   congestion_surcharge  driver_pay  pickup_lat  pickup_lon  dropoff_lat  \\\n",
      "0                  0.00       32.66   40.694994  -73.922240    40.630950   \n",
      "1                  0.00       34.81   40.823319  -73.823540    40.675595   \n",
      "2                  0.00       22.67   40.638037  -73.899735    40.688168   \n",
      "3                  2.75       32.60   40.748497  -73.992438    40.857108   \n",
      "4                  2.75       50.48   40.764421  -73.977569    40.703916   \n",
      "\n",
      "   dropoff_lon pickup_nearest_node dropoff_nearest_node  trip_duration  \\\n",
      "0   -73.988661            42486754             42473049         1688.0   \n",
      "1   -73.847043            42754073             42882900         1509.0   \n",
      "2   -73.931888            42500118             42473259         1407.0   \n",
      "3   -73.932831            42435420             42429104         1277.0   \n",
      "4   -73.958597            42430384             42491429         1057.0   \n",
      "\n",
      "   wait_time  avg_speed  \n",
      "0     3877.0  20.409953  \n",
      "1      224.0  37.023459  \n",
      "2      262.0  13.184648  \n",
      "3      642.0  27.429914  \n",
      "4       98.0  27.553453  \n"
     ]
    }
   ],
   "source": [
    "query = f\"SELECT * FROM '{output_parquet}' WHERE trip_miles > 5\"\n",
    "df = duckdb.query(query).to_df()\n",
    "print(df.head())"
   ]
  },
  {
   "cell_type": "code",
   "execution_count": null,
   "id": "ff5f06a3",
   "metadata": {},
   "outputs": [],
   "source": []
  }
 ],
 "metadata": {
  "kernelspec": {
   "display_name": ".venv",
   "language": "python",
   "name": "python3"
  },
  "language_info": {
   "codemirror_mode": {
    "name": "ipython",
    "version": 3
   },
   "file_extension": ".py",
   "mimetype": "text/x-python",
   "name": "python",
   "nbconvert_exporter": "python",
   "pygments_lexer": "ipython3",
   "version": "3.11.9"
  }
 },
 "nbformat": 4,
 "nbformat_minor": 5
}
